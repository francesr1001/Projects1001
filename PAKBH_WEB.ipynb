{
 "cells": [
  {
   "cell_type": "markdown",
   "id": "7b698b27",
   "metadata": {},
   "source": [
    "[Princess Anne Birth Home — GitHub Repository](https://github.com/francesr1001/princessannebirthhome)\n"
   ]
  },
  {
   "cell_type": "markdown",
   "id": "3fc9cd00",
   "metadata": {},
   "source": [
    "FORMSPREE FUNCTION"
   ]
  },
  {
   "cell_type": "code",
   "execution_count": null,
   "id": "f3087b78",
   "metadata": {},
   "outputs": [],
   "source": [
    "<div class=\"container-xxl contact py-5\">\n",
    "    <div class=\"container\">\n",
    "        <div class=\"section-title text-center mx-auto wow fadeInUp\" data-wow-delay=\"0.1s\" style=\"max-width: 500px;\">\n",
    "            <p class=\"fs-5 fw-medium fst-italic text-primary\">Contact Us</p>\n",
    "            <h1 class=\"display-6\">Send Us an Email</h1>\n",
    "        </div>\n",
    "\n",
    "        <div class=\"contact-form\">\n",
    "            <h4 class=\"text-primary mb-4\">For Questions and Inquiries</h4>\n",
    "            <form\n",
    "                action=\"FORM_ENDPOINT_URL\" # REPLACE WITH URL\n",
    "                method=\"POST\"\n",
    "            >\n",
    "                <div class=\"form-group mb-3\">\n",
    "                    <label for=\"email\" class=\"form-label\">Your Email Address:</label>\n",
    "                    <input type=\"email\" id=\"email\" name=\"email\" class=\"form-control\" required>\n",
    "                </div>\n",
    "                <div class=\"form-group mb-3\">\n",
    "                    <label for=\"message\" class=\"form-label\">Your Message:</label>\n",
    "                    <textarea id=\"message\" name=\"message\" class=\"form-control\" rows=\"5\" required></textarea>\n",
    "                </div>\n",
    "                <button type=\"submit\" class=\"btn btn-primary\">Send</button>\n",
    "            </form>\n",
    "        </div>\n",
    "    </div>\n",
    "</div>\n"
   ]
  }
 ],
 "metadata": {
  "kernelspec": {
   "display_name": "Python 3",
   "language": "python",
   "name": "python3"
  },
  "language_info": {
   "codemirror_mode": {
    "name": "ipython",
    "version": 3
   },
   "file_extension": ".py",
   "mimetype": "text/x-python",
   "name": "python",
   "nbconvert_exporter": "python",
   "pygments_lexer": "ipython3",
   "version": "3.11.3"
  }
 },
 "nbformat": 4,
 "nbformat_minor": 5
}
